{
 "cells": [
  {
   "cell_type": "code",
   "execution_count": null,
   "metadata": {},
   "outputs": [],
   "source": [
    "import random"
   ]
  },
  {
   "cell_type": "code",
   "execution_count": null,
   "metadata": {},
   "outputs": [],
   "source": [
    "population_size = 50\n",
    "num_iterations = 500\n",
    "mutate_pct = .05f"
   ]
  },
  {
   "cell_type": "code",
   "execution_count": null,
   "metadata": {},
   "outputs": [],
   "source": [
    "def ValuesToGenome(lr, dr, er, hn):\n",
    "    return str(lr) + str(dr) + str(er) + ('0' if hn < 100) + str(hn) "
   ]
  },
  {
   "cell_type": "code",
   "execution_count": null,
   "metadata": {},
   "outputs": [],
   "source": [
    "def GenomeToValues(genome):\n",
    "    lr = genome[0:2]\n",
    "    dr = genome[2:4]\n",
    "    er = genome[4:6]\n",
    "    hn = genome[6:]\n",
    "    return lr, dr, er, hn"
   ]
  },
  {
   "cell_type": "code",
   "execution_count": null,
   "metadata": {},
   "outputs": [],
   "source": [
    "def Get_Pos():\n",
    "    # first three values\n",
    "    return"
   ]
  },
  {
   "cell_type": "code",
   "execution_count": null,
   "metadata": {},
   "outputs": [],
   "source": [
    "def Fitness(genome):\n",
    "    #(mag(normalized vector)) or 1-abs(mag(normalized vector))\n",
    "    x,y,z = Get_Pos()\n",
    "    return math.sqrt(x**2 + y**2 + z**2)"
   ]
  },
  {
   "cell_type": "code",
   "execution_count": null,
   "metadata": {},
   "outputs": [],
   "source": [
    "def Generate():\n",
    "    genome = ValuesToGenome(random.randint(1,100),random.randint(1,100),random.randint(1,100),random.randint(1,200))\n",
    "    genomes = {genome:Fitness(genome)}\n",
    "    for i in range(population_size-1):\n",
    "        genome = ValuesToGenome(random.randint(1,100),random.randint(1,100),random.randint(1,100),random.randint(1,200))\n",
    "        genomes += {genome:Fitness(genome)}\n",
    "    return genomes"
   ]
  },
  {
   "cell_type": "code",
   "execution_count": null,
   "metadata": {},
   "outputs": [],
   "source": [
    "def KTournamentSelect():\n",
    "    entrent_size = random.randint(1,population_size)\n",
    "    spot = random.randint(0,population_size+1)\n",
    "    entrents = {spot:population[spot]}\n",
    "    for i in range(entrent_size):\n",
    "        spot = random.randint(0,population_size+1)\n",
    "        entrents = {spot:population[spot]}\n",
    "    winner = 0\n",
    "    for i in entents.keys:\n",
    "        if entrents[i] > entrents[winner]:\n",
    "            winner = i\n",
    "    return population.keys[winner]"
   ]
  },
  {
   "cell_type": "code",
   "execution_count": null,
   "metadata": {},
   "outputs": [],
   "source": [
    "def Crossover(population):\n",
    "    #spot is the index of the start of the part to be crossed over\n",
    "    spot = random.randint(1,9)\n",
    "    parent1 = KTournamentSelect(population)\n",
    "    parent2 = KtournamentSelect(population)\n",
    "    temp = parent1\n",
    "    parent1 = parent1[0:spot] + parent2[spot:]\n",
    "    parent2 = parent2[0:spot] + temp[spot:]\n",
    "    return parent1, parent2"
   ]
  },
  {
   "cell_type": "code",
   "execution_count": null,
   "metadata": {},
   "outputs": [],
   "source": [
    "def Mutate(genome):\n",
    "    #spot is the index of the start of the part to be manipulated over\n",
    "    spot = random.randint(0,9)\n",
    "    if random.randint(0,101) / 100f <= mutate_pct:\n",
    "        if spot == 6:\n",
    "            if genome[6] == '0':\n",
    "                genome[6] = '1'\n",
    "            else:\n",
    "                genome[6] = '0'\n",
    "        else:\n",
    "            oldval = int(genome[spot])\n",
    "            while (val = random.randint(0,10)) != oldval\n",
    "            genome[spot] = str(val)\n",
    "    return"
   ]
  },
  {
   "cell_type": "code",
   "execution_count": null,
   "metadata": {},
   "outputs": [],
   "source": [
    "def Replace(genome, population):\n",
    "    genome = Mutate(genome)\n",
    "    lowest =sys.maxint\n",
    "    worst = population[0]\n",
    "    for g in population.keys:\n",
    "        if population[g] < lowest:\n",
    "            worst = g\n",
    "            lowest = population[g]\n",
    "    del(population[g])\n",
    "    population += {genome, Fitness(genome)}\n",
    "    return population"
   ]
  },
  {
   "cell_type": "code",
   "execution_count": null,
   "metadata": {},
   "outputs": [],
   "source": [
    "def Run():\n",
    "    population = Generate()\n",
    "    for i in range(num_iterations):\n",
    "        parent1, parent2 = Crossover(population)\n",
    "        population = Replace(parent1)\n",
    "    return"
   ]
  }
 ],
 "metadata": {
  "kernelspec": {
   "display_name": "Python 3",
   "language": "python",
   "name": "python3"
  },
  "language_info": {
   "codemirror_mode": {
    "name": "ipython",
    "version": 3
   },
   "file_extension": ".py",
   "mimetype": "text/x-python",
   "name": "python",
   "nbconvert_exporter": "python",
   "pygments_lexer": "ipython3",
   "version": "3.6.7"
  }
 },
 "nbformat": 4,
 "nbformat_minor": 2
}
